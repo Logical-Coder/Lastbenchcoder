{
 "cells": [
  {
   "cell_type": "code",
   "execution_count": 29,
   "metadata": {},
   "outputs": [
    {
     "name": "stdout",
     "output_type": "stream",
     "text": [
      "The sum of list is 557\n",
      "The sum is 557 of list [2, 822, 3, 3, -322, 3, 3, 22, 21] \n",
      "The sum of list [2, 822, 3, 3, -322, 3, 3, 22, 21] is 557 \n"
     ]
    }
   ],
   "source": [
    "#1.\tWrite a Python program to sum all the items in a list.\n",
    "liss=[2,822,3,3,-322,3,3,22,21]\n",
    "def sum_list(liss):\n",
    "    _sum=0\n",
    "    for i in liss:\n",
    "        _sum+=i\n",
    "    return _sum\n",
    "print(\"The sum of list is %d\"%(sum_list(liss)))\n",
    "print(\"The sum is {1} of list {0} \".format(liss,sum_list(liss)))\n",
    "print(\"The sum of list {0} is {1} \".format(liss,sum_list(liss)))"
   ]
  },
  {
   "cell_type": "code",
   "execution_count": 47,
   "metadata": {},
   "outputs": [
    {
     "name": "stdout",
     "output_type": "stream",
     "text": [
      "230076\n",
      "230076\n"
     ]
    }
   ],
   "source": [
    "#2.\tWrite a Python program to multiplies all the items in a list\n",
    "liss=[2,83,3,22,21]\n",
    "m_sum=1\n",
    "for i in liss:\n",
    "    m_sum*=i\n",
    "print(m_sum)\n",
    "def multiply(liss):\n",
    "    m_sum=1\n",
    "    for i in liss:\n",
    "        m_sum*=i\n",
    "    return m_sum\n",
    "print(multiply(liss))"
   ]
  },
  {
   "cell_type": "code",
   "execution_count": 51,
   "metadata": {},
   "outputs": [
    {
     "name": "stdout",
     "output_type": "stream",
     "text": [
      "554\n",
      "554\n"
     ]
    }
   ],
   "source": [
    "#3.\tWrite a Python program to get the largest number from a list. \n",
    "def find_max(liss):\n",
    "    temp=0\n",
    "    for i in liss:\n",
    "        if temp<i:\n",
    "            temp=i\n",
    "    return temp\n",
    "liss=[1,2,4,33,554,7,89,543,67]\n",
    "print(find_max(liss))\n",
    "print(max(liss))"
   ]
  },
  {
   "cell_type": "code",
   "execution_count": 53,
   "metadata": {},
   "outputs": [
    {
     "name": "stdout",
     "output_type": "stream",
     "text": [
      "2\n",
      "2\n"
     ]
    }
   ],
   "source": [
    "#Write a Python program to get the smallest number from a list.\n",
    "def find_min(liss):\n",
    "    temp=liss[0]\n",
    "    for i in liss:\n",
    "        if i<temp:\n",
    "            temp=i\n",
    "    return temp\n",
    "liss=[11,2,4,33,554,7,89,543,67]\n",
    "print(find_min(liss))\n",
    "print(min(liss))"
   ]
  },
  {
   "cell_type": "code",
   "execution_count": 57,
   "metadata": {},
   "outputs": [
    {
     "name": "stdout",
     "output_type": "stream",
     "text": [
      "3\n"
     ]
    }
   ],
   "source": [
    "\"\"\"5.\tWrite a Python program to count the number of strings where the string length is 2 or more\n",
    "and the first and last character\n",
    "are same from a given list of strings.  \"\"\"\n",
    "def matching_words(words):\n",
    "    cnt=0\n",
    "    for wrd in words:\n",
    "        if len(wrd)>1 and wrd[0]==wrd[-1]:\n",
    "            cnt+=1\n",
    "    return cnt\n",
    "words=['ABC0',\"aba\",\"11221\",\"12111231\"]\n",
    "print(matching_words(words))"
   ]
  },
  {
   "cell_type": "code",
   "execution_count": 58,
   "metadata": {},
   "outputs": [
    {
     "name": "stdout",
     "output_type": "stream",
     "text": [
      "[(2, 1), (1, 2), (4, 3), (2, 4), (2, 5)]\n"
     ]
    }
   ],
   "source": [
    "\"\"\"6.\tWrite a Python program to get a list, sorted in increasing order by the last element in each tuple from a given list of non-empty tuples.  \n",
    "Sample List : [(2, 5), (1, 2), (4, 4), (2, 3), (2, 1)]\n",
    "Expected Result : [(2, 1), (1, 2), (2, 3), (4, 4), (2, 5)]\n",
    "\"\"\"\n",
    "liss=[(2, 5), (1, 2), (4, 4), (2, 3), (2, 1)]\n",
    "ls=[]\n",
    "lss=[]\n",
    "for i in liss:\n",
    "    lss.append(list(i))\n",
    "for i in range(0,len(liss)):\n",
    "    ls.append(liss[i][1])\n",
    "ls.sort()\n",
    "for i in range(0,len(liss)):\n",
    "    lss[i][1]=ls[i]\n",
    "liss.clear()\n",
    "for i in lss:\n",
    "    liss.append(tuple(i))\n",
    "print(liss)"
   ]
  },
  {
   "cell_type": "code",
   "execution_count": 59,
   "metadata": {},
   "outputs": [
    {
     "name": "stdout",
     "output_type": "stream",
     "text": [
      "Normal sort: [3, 7, 11, 15]\n",
      "Sorted with key: [7, 15, 3, 11]\n"
     ]
    }
   ],
   "source": [
    "def func(x):\n",
    "    return x % 7\n",
    "  \n",
    "L = [15, 3, 11, 7]\n",
    "  \n",
    "print (\"Normal sort:\", sorted(L))\n",
    "print (\"Sorted with key:\", sorted (L, key = func))\n"
   ]
  },
  {
   "cell_type": "code",
   "execution_count": 72,
   "metadata": {},
   "outputs": [
    {
     "name": "stdout",
     "output_type": "stream",
     "text": [
      "[10, 20, 30, 50, 60, 40, 80] {40, 10, 80, 50, 20, 60, 30}\n"
     ]
    }
   ],
   "source": [
    "#7.\tWrite a Python program to remove duplicates from a list\n",
    "liss = [10,20,30,20,10,50,60,40,80,50,40]\n",
    "dub_values=set()\n",
    "b=[]\n",
    "for i in liss:\n",
    "    if i not in dub_values:\n",
    "        b.append(i)\n",
    "        dub_values.add(i)\n",
    "print(b,dub_values)"
   ]
  },
  {
   "cell_type": "code",
   "execution_count": 78,
   "metadata": {},
   "outputs": [
    {
     "name": "stdout",
     "output_type": "stream",
     "text": [
      "List is empty\n"
     ]
    }
   ],
   "source": [
    "#8.\tWrite a Python program to check a list is empty or not.\n",
    "l = []\n",
    "if not l:\n",
    "  print(\"List is empty\")\n",
    "else:\n",
    "    print(\"List has\",len(l),\"Items\")\n"
   ]
  },
  {
   "cell_type": "code",
   "execution_count": 81,
   "metadata": {},
   "outputs": [
    {
     "name": "stdout",
     "output_type": "stream",
     "text": [
      "[10, 22, 44, 23, 4]\n",
      "[10, 22, 44, 23, 4]\n"
     ]
    }
   ],
   "source": [
    "#9.\tWrite a Python program to clone or copy a list.\n",
    "_list = [10, 22, 44, 23, 4]\n",
    "new_list = _list.copy()\n",
    "print(_list)\n",
    "print(new_list)"
   ]
  },
  {
   "cell_type": "code",
   "execution_count": 1,
   "metadata": {},
   "outputs": [
    {
     "name": "stdout",
     "output_type": "stream",
     "text": [
      "['Hello', 'People', 'Praveen', 'gone']\n"
     ]
    }
   ],
   "source": [
    "#10.\tWrite a Python program to find the list of words that are longer than n from a given list of words\n",
    "def long_words(n,string):\n",
    "    liss=[]\n",
    "    words=string.split()\n",
    "    for i in words:\n",
    "        if len(i)>n:\n",
    "            liss.append(i)\n",
    "    return liss\n",
    "print(long_words(3, \"Hello How are You ALl People Im Praveen gone\"))"
   ]
  },
  {
   "cell_type": "code",
   "execution_count": 8,
   "metadata": {},
   "outputs": [
    {
     "name": "stdout",
     "output_type": "stream",
     "text": [
      "True\n",
      "None\n"
     ]
    }
   ],
   "source": [
    "#11.\tWrite a Python function that takes two lists and returns True if they have at least one common member.\n",
    "def compare(liss1,liss2):\n",
    "    for i in liss1:\n",
    "        for j in liss2:\n",
    "            if i==j:\n",
    "                return True\n",
    "    else:\n",
    "        return False\n",
    "print(compare([1,2,3,4],[5,6,7,3]))\n",
    "print(compare([1,2,3,4,5], [6,7,8,9]))"
   ]
  },
  {
   "cell_type": "code",
   "execution_count": 10,
   "metadata": {},
   "outputs": [
    {
     "name": "stdout",
     "output_type": "stream",
     "text": [
      "['Green', 'White', 'Black']\n",
      "['White']\n",
      "[0, 1, 2, 3, 4, 5] ['Red', 'Green', 'White', 'Black', 'Pink', 'Yellow']\n"
     ]
    }
   ],
   "source": [
    "color = ['Red', 'Green', 'White', 'Black', 'Pink', 'Yellow']\n",
    "color1=['Blue','Orange','White','Yello','Dark Green']\n",
    "colorz = [x for (i,x) in enumerate(color) if i not in (0,4,5)]\n",
    "colorr=[i for j,i in enumerate(color) if i in (color1)]\n",
    "print(colorz)\n",
    "print(colorr)\n",
    "\n",
    "print([x for (x,i) in enumerate(color)],[x for (i,x) in enumerate(color)])\n"
   ]
  },
  {
   "cell_type": "code",
   "execution_count": null,
   "metadata": {},
   "outputs": [],
   "source": []
  }
 ],
 "metadata": {
  "kernelspec": {
   "display_name": "Python 3",
   "language": "python",
   "name": "python3"
  },
  "language_info": {
   "codemirror_mode": {
    "name": "ipython",
    "version": 3
   },
   "file_extension": ".py",
   "mimetype": "text/x-python",
   "name": "python",
   "nbconvert_exporter": "python",
   "pygments_lexer": "ipython3",
   "version": "3.8.5"
  }
 },
 "nbformat": 4,
 "nbformat_minor": 4
}
