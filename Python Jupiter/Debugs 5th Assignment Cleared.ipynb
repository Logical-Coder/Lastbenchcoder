{
 "cells": [
  {
   "cell_type": "code",
   "execution_count": 1,
   "metadata": {},
   "outputs": [
    {
     "name": "stdout",
     "output_type": "stream",
     "text": [
      "[12, 24, 88]\n"
     ]
    }
   ],
   "source": [
    "#11.Write a program to print the list after removing delete numbers which are divisible by 5 and 7 in [12,24,35,70,88,120,155].\n",
    "liss=[12,24,35,70,88,120,155]\n",
    "a=[]\n",
    "for i in liss:\n",
    "    if not(i%5!=0 and i%7!=0):\n",
    "        a.append(i)   \n",
    "for i in a:\n",
    "    liss.remove(i)\n",
    "print(liss)"
   ]
  },
  {
   "cell_type": "code",
   "execution_count": 5,
   "metadata": {},
   "outputs": [
    {
     "name": "stdout",
     "output_type": "stream",
     "text": [
      "Helloworld\n"
     ]
    }
   ],
   "source": [
    "##5.\tPlease write a program which accepts a string from console and print the characters that have even indexes.\n",
    "a=\"H1e2l3l4o5w6o7r8l9d\"\n",
    "string=\"\"\n",
    "for i in a:\n",
    "    if i.isalpha():\n",
    "        b=a.index(i)\n",
    "        if b%2==0:\n",
    "            string+=i\n",
    "print(string)"
   ]
  },
  {
   "cell_type": "code",
   "execution_count": null,
   "metadata": {},
   "outputs": [],
   "source": [
    "##5.\tPlease write a program which accepts a string from console and print the characters that have even indexes.\n",
    "alpha=\"abcdefghijklmnopqrstuvwxyz\"\n",
    "a=\"H1e2l3l4o5w6o7r8l9d\"\n",
    "string=\"\"\n",
    "for i in a:\n",
    "    if a.index(i)%2==0:\n",
    "        if i in alpha.upper():\n",
    "            string+=i\n",
    "        if i in alpha.lower():\n",
    "            string+=i\n",
    "print(string)"
   ]
  }
 ],
 "metadata": {
  "kernelspec": {
   "display_name": "Python 3",
   "language": "python",
   "name": "python3"
  },
  "language_info": {
   "codemirror_mode": {
    "name": "ipython",
    "version": 3
   },
   "file_extension": ".py",
   "mimetype": "text/x-python",
   "name": "python",
   "nbconvert_exporter": "python",
   "pygments_lexer": "ipython3",
   "version": "3.8.5"
  }
 },
 "nbformat": 4,
 "nbformat_minor": 4
}
