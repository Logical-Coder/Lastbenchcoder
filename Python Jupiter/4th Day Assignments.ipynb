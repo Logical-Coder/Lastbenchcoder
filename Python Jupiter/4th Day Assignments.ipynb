{
 "cells": [
  {
   "cell_type": "code",
   "execution_count": 2,
   "metadata": {},
   "outputs": [
    {
     "name": "stdout",
     "output_type": "stream",
     "text": [
      "Enter a Number:50\n",
      "Factor is Odd 1\n",
      "Factor is Even 2\n",
      "Factor is Odd 5\n",
      "Factor is Even 10\n",
      "Factor is Odd 25\n",
      "Factor is Even 50\n"
     ]
    }
   ],
   "source": [
    "#1.\tWrite a program which will find factors of given number and find whether the factor is even or odd.\n",
    "fact_num=int(input(\"Enter a Number:\"))\n",
    "\n",
    "for i in range(1,fact_num+1):\n",
    "    if fact_num%i==0:\n",
    "        if i%2==0:\n",
    "            print(\"Factor is Even\",i)\n",
    "        else:\n",
    "            print(\"Factor is Odd\",i)\n",
    "            "
   ]
  },
  {
   "cell_type": "code",
   "execution_count": 17,
   "metadata": {},
   "outputs": [
    {
     "name": "stdout",
     "output_type": "stream",
     "text": [
      "Enter string input to sort:Welcome to Python\n",
      "The Sorted Words are:\n",
      "Python\n",
      "Welcome\n",
      "to\n"
     ]
    }
   ],
   "source": [
    "#2.\tWrite a code which accepts a sequence of words as input and prints the words in a sequence after sorting them alphabetically.\n",
    "\n",
    "def sort(liss):\n",
    "    return sorted(liss)\n",
    "inp=input(\"Enter string input to sort:\").split()\n",
    "print(\"The Sorted Words are:\")\n",
    "for i in sort(inp):\n",
    "    print(i)"
   ]
  },
  {
   "cell_type": "code",
   "execution_count": 25,
   "metadata": {},
   "outputs": [
    {
     "name": "stdout",
     "output_type": "stream",
     "text": [
      "The Sorted Words are:\n",
      "['Hi', 'My', 'Name', 'Praveen', 'is']\n"
     ]
    }
   ],
   "source": [
    "#2.\tWrite a code which accepts a sequence of words as input and prints the words in a sequence after sorting them alphabetically.\n",
    "_str=\"Hi Name My   is Praveen\"\n",
    "_str=_str.split()\n",
    "_str.sort()\n",
    "print(\"The Sorted Words are:\")\n",
    "print(_str)"
   ]
  },
  {
   "cell_type": "code",
   "execution_count": 29,
   "metadata": {},
   "outputs": [
    {
     "name": "stdout",
     "output_type": "stream",
     "text": [
      "2000,2002,2004,2006,2008,2020,2022,2024,2026,2028,2040,2042,2044,2046,2048,2060,2062,2064,2066,2068,2080,2082,2084,2086,2088,2200,2202,2204,2206,2208,2220,2222,2224,2226,2228,2240,2242,2244,2246,2248,2260,2262,2264,2266,2268,2280,2282,2284,2286,2288,2400,2402,2404,2406,2408,2420,2422,2424,2426,2428,2440,2442,2444,2446,2448,2460,2462,2464,2466,2468,2480,2482,2484,2486,2488,2600,2602,2604,2606,2608,2620,2622,2624,2626,2628,2640,2642,2644,2646,2648,2660,2662,2664,2666,2668,2680,2682,2684,2686,2688,2800,2802,2804,2806,2808,2820,2822,2824,2826,2828,2840,2842,2844,2846,2848,2860,2862,2864,2866,2868,2880,2882,2884,2886,2888,"
     ]
    }
   ],
   "source": [
    "\"\"\"3.\tWrite a program, which will find all the numbers between 1000 and 3000 (both included) \n",
    "such that each digit of a number is an even number.\n",
    "The numbers obtained should be printed in a comma separated sequence on a single line.\"\"\"\n",
    "\n",
    "for i in range(1000,3000+1):\n",
    "    i=str(i)\n",
    "    if int(i[0])%2==0 and int(i[1])%2==0 and int(i[2])%2==0 and int(i[3])%2==0:\n",
    "        print(i,end=',')\n"
   ]
  },
  {
   "cell_type": "code",
   "execution_count": 47,
   "metadata": {},
   "outputs": [
    {
     "name": "stdout",
     "output_type": "stream",
     "text": [
      "2000,2002,2004,2006,2008,2020,2022,2024,2026,2028,2040,2042,2044,2046,2048,2060,2062,2064,2066,2068,2080,2082,2084,2086,2088,2200,2202,2204,2206,2208,2220,2222,2224,2226,2228,2240,2242,2244,2246,2248,2260,2262,2264,2266,2268,2280,2282,2284,2286,2288,2400,2402,2404,2406,2408,2420,2422,2424,2426,2428,2440,2442,2444,2446,2448,2460,2462,2464,2466,2468,2480,2482,2484,2486,2488,2600,2602,2604,2606,2608,2620,2622,2624,2626,2628,2640,2642,2644,2646,2648,2660,2662,2664,2666,2668,2680,2682,2684,2686,2688,2800,2802,2804,2806,2808,2820,2822,2824,2826,2828,2840,2842,2844,2846,2848,2860,2862,2864,2866,2868,2880,2882,2884,2886,2888,"
     ]
    }
   ],
   "source": [
    "x=list(x for x in range(1000,3000+1))\n",
    "for i in x:\n",
    "    i=str(i)\n",
    "    if int(i[0])%2==0 and int(i[1])%2==0 and int(i[2])%2==0 and int(i[3])%2==0:\n",
    "        print(i,end=',')\n"
   ]
  },
  {
   "cell_type": "code",
   "execution_count": 107,
   "metadata": {},
   "outputs": [
    {
     "name": "stdout",
     "output_type": "stream",
     "text": [
      "['2000', '2002', '2004', '2006', '2008', '2020', '2022', '2024', '2026', '2028', '2040', '2042', '2044', '2046', '2048', '2060', '2062', '2064', '2066', '2068', '2080', '2082', '2084', '2086', '2088', '2200', '2202', '2204', '2206', '2208', '2220', '2222', '2224', '2226', '2228', '2240', '2242', '2244', '2246', '2248', '2260', '2262', '2264', '2266', '2268', '2280', '2282', '2284', '2286', '2288', '2400', '2402', '2404', '2406', '2408', '2420', '2422', '2424', '2426', '2428', '2440', '2442', '2444', '2446', '2448', '2460', '2462', '2464', '2466', '2468', '2480', '2482', '2484', '2486', '2488', '2600', '2602', '2604', '2606', '2608', '2620', '2622', '2624', '2626', '2628', '2640', '2642', '2644', '2646', '2648', '2660', '2662', '2664', '2666', '2668', '2680', '2682', '2684', '2686', '2688', '2800', '2802', '2804', '2806', '2808', '2820', '2822', '2824', '2826', '2828', '2840', '2842', '2844', '2846', '2848', '2860', '2862', '2864', '2866', '2868', '2880', '2882', '2884', '2886', '2888']\n"
     ]
    }
   ],
   "source": [
    "s=list(str(x) for x in range(1000,3000+1))\n",
    "a=0\n",
    "z=list()\n",
    "for i in s:\n",
    "        a=i if int(i[0])%2==0 and int(i[1])%2==0 and int(i[2])%2==0 and int(i[3])%2==0 else \"\" \n",
    "        if a==\"\":\n",
    "            continue\n",
    "        else:\n",
    "            z.append(a)\n",
    "print(z) "
   ]
  },
  {
   "cell_type": "code",
   "execution_count": 109,
   "metadata": {},
   "outputs": [
    {
     "name": "stdout",
     "output_type": "stream",
     "text": [
      "Enter Name with Mobile Number:Praveen9880032253\n",
      "7 10\n"
     ]
    }
   ],
   "source": [
    "#4.Write a program that accepts a sentence and calculate the number of letters and digits.\n",
    "_mul_data=input(\"Enter Name with Mobile Number:\")\n",
    "Letters=0\n",
    "Digits=0\n",
    "for i in _mul_data:\n",
    "    if i.isalpha():\n",
    "        Letters+=1\n",
    "    if i.isdigit():\n",
    "        Digits+=1\n",
    "print(Letters,Digits)\n",
    "        \n",
    "        "
   ]
  },
  {
   "cell_type": "code",
   "execution_count": 2,
   "metadata": {},
   "outputs": [
    {
     "name": "stdout",
     "output_type": "stream",
     "text": [
      "Enter Name with Mobile Number:Helloaajjajkk    &&&&**@(@(@())!)!)*!*@&&^@&&&*@**738838388292998288282738383883++--**+++++---\n",
      "In this Line Letters is Helloaajjajkk Digits are 738838388292998288282738383883 Ascii Symobols are &&&&**@(@(@())!)!)*!*@&&^@&&&*@**++--**+++++--- and Spaces are 4 \n"
     ]
    }
   ],
   "source": [
    "#4.Write a program that accepts a sentence and calculate the number of letters and digits.\n",
    "_mul_data=input(\"Enter Name with Mobile Number:\")\n",
    "Letters=\"\"\n",
    "Digits=\"\"\n",
    "Ascii=\"\"\n",
    "cnt_spc=0\n",
    "for i in _mul_data:\n",
    "    if i.isspace():\n",
    "        cnt_spc+=1\n",
    "    elif i.isalpha():\n",
    "        Letters+=i\n",
    "    elif i.isdigit():\n",
    "        Digits+=i\n",
    "    elif i.isascii():\n",
    "        Ascii+=i\n",
    "    \n",
    "print(\"In this Line Letters is %s Digits are %s Ascii Symobols are %s and Spaces are %d \"%(Letters,Digits,Ascii,cnt_spc))\n",
    "        "
   ]
  },
  {
   "cell_type": "code",
   "execution_count": 12,
   "metadata": {},
   "outputs": [
    {
     "name": "stdout",
     "output_type": "stream",
     "text": [
      "Enter to checke Palindrome or Not:AABBBBAA\n",
      "Palindrome\n"
     ]
    }
   ],
   "source": [
    "#5.\tDesign a code which will find the given number is Palindrome number or not.\n",
    "palindrome=input(\"Enter to checke Palindrome or Not:\")\n",
    "_str=palindrome.casefold()\n",
    "_rev_str=_str[::-1]\n",
    "if _str==_rev_str:\n",
    "    print(\"Palindrome\")\n",
    "else:\n",
    "    print(\"Not Palindrome\")\n"
   ]
  },
  {
   "cell_type": "code",
   "execution_count": 2,
   "metadata": {},
   "outputs": [
    {
     "name": "stdout",
     "output_type": "stream",
     "text": [
      "Enter to checke Palindrome or Not:121\n",
      "['1', '2', '1'] ['1', '2', '1']\n",
      "Palindrome\n"
     ]
    }
   ],
   "source": [
    "#5.\tDesign a code which will find the given number is Palindrome number or not.\n",
    "palindrome=input(\"Enter to checke Palindrome or Not:\")\n",
    "_str=list(i for i in palindrome.casefold())\n",
    "\n",
    "_rev_str=list(x for x in _str[::-1])\n",
    "s,rs=\"\",\"\"\n",
    "for i in range(0,len(_str)):\n",
    "    s+=_str[i]\n",
    "for i in range(0,len(_rev_str)):\n",
    "    rs+=_rev_str[i]\n",
    "if s==rs:\n",
    "    print(\"Palindrome\")\n",
    "else:\n",
    "    print(\"Not Palindrome\")    \n"
   ]
  },
  {
   "cell_type": "code",
   "execution_count": 1,
   "metadata": {},
   "outputs": [
    {
     "name": "stdout",
     "output_type": "stream",
     "text": [
      "It is palindrome\n"
     ]
    }
   ],
   "source": [
    "#5.\tDesign a code which will find the given number is Palindrome number or not.\n",
    "my_str = 'aIbohPhoBiA'\n",
    "my_str = my_str.casefold()\n",
    "rev_str = my_str[::-1]\n",
    "if my_str == rev_str:\n",
    "   print(\"It is palindrome\")\n",
    "else:\n",
    "   print(\"It is not palindrome\")"
   ]
  },
  {
   "cell_type": "code",
   "execution_count": null,
   "metadata": {},
   "outputs": [],
   "source": []
  }
 ],
 "metadata": {
  "kernelspec": {
   "display_name": "Python 3",
   "language": "python",
   "name": "python3"
  },
  "language_info": {
   "codemirror_mode": {
    "name": "ipython",
    "version": 3
   },
   "file_extension": ".py",
   "mimetype": "text/x-python",
   "name": "python",
   "nbconvert_exporter": "python",
   "pygments_lexer": "ipython3",
   "version": "3.8.5"
  }
 },
 "nbformat": 4,
 "nbformat_minor": 4
}
