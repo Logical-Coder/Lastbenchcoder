{
 "cells": [
  {
   "cell_type": "code",
   "execution_count": 1,
   "metadata": {},
   "outputs": [
    {
     "name": "stdout",
     "output_type": "stream",
     "text": [
      "Python version\n",
      "3.8.5 (default, Sep  3 2020, 21:29:08) [MSC v.1916 64 bit (AMD64)]\n",
      "Version info.\n",
      "sys.version_info(major=3, minor=8, micro=5, releaselevel='final', serial=0)\n"
     ]
    }
   ],
   "source": [
    "# Write a Python program to get the Python version you are using. \n",
    "import sys\n",
    "print(\"Python version\")\n",
    "print (sys.version)\n",
    "print(\"Version info.\")\n",
    "print (sys.version_info)\n"
   ]
  },
  {
   "cell_type": "code",
   "execution_count": 9,
   "metadata": {},
   "outputs": [
    {
     "name": "stdout",
     "output_type": "stream",
     "text": [
      "Current date and time : \n",
      "2021-05-22 21:10:20\n",
      "Sat-Saturday-6-22-May\n",
      "Sat May 22 21:10:20 2021\n",
      "2021\n"
     ]
    }
   ],
   "source": [
    "#Write a Python program to display the current date and time.\n",
    "import datetime\n",
    "now = datetime.datetime.now()\n",
    "print (\"Current date and time : \")\n",
    "print (now.strftime(\"%Y-%m-%d %H:%M:%S\"))\n",
    "print(now.strftime(\"%a-%A-%w-%d-%b\"))\n",
    "print(now.strftime(\"%c\"))\n",
    "print(now.strftime(\"%G\"))\n",
    "\n"
   ]
  },
  {
   "cell_type": "code",
   "execution_count": 11,
   "metadata": {},
   "outputs": [
    {
     "name": "stdout",
     "output_type": "stream",
     "text": [
      "Input the radius of the circle : 1.2\n",
      "The area of the circle with radius 1.2 is: 4.523893421169302\n"
     ]
    }
   ],
   "source": [
    "#Write a Python program which accepts the radius of a circle from the user and compute the area.\n",
    "from math import pi\n",
    "r = float(input (\"Input the radius of the circle : \"))\n",
    "print (\"The area of the circle with radius \" + str(r) + \" is: \" + str(pi * r**2))\n"
   ]
  },
  {
   "cell_type": "code",
   "execution_count": 13,
   "metadata": {},
   "outputs": [
    {
     "name": "stdout",
     "output_type": "stream",
     "text": [
      "Input your First Name : Praveen\n",
      "Input your Last Name : Acharya\n",
      "Hai HelloAcharya Praveen\n"
     ]
    }
   ],
   "source": [
    "#Write a Python program which accepts the user's first and last name and print them in reverse order with a space between them \n",
    "fname = str(input(\"Input your First Name : \"))\n",
    "lname = str(input(\"Input your Last Name : \"))\n",
    "print (\"Hai Hello \" + lname + \" \" + fname)\n"
   ]
  },
  {
   "cell_type": "code",
   "execution_count": 18,
   "metadata": {},
   "outputs": [
    {
     "name": "stdout",
     "output_type": "stream",
     "text": [
      "Enter Number Separated by comma:1,2,3,4,5,6,7,8,9\n",
      "List: ['1', '2', '3', '4', '5', '6', '7', '8', '9']\n",
      "Tuple: ('1', '2', '3', '4', '5', '6', '7', '8', '9')\n"
     ]
    }
   ],
   "source": [
    "#Write a Python program which accepts a sequence of comma-separated numbers\n",
    "#from user and generate a list and a tuple with those numbers\n",
    "list1=input(\"Enter Number Separated by comma:\").split(',')\n",
    "tup=tuple(list1)\n",
    "print(\"List:\",list1)\n",
    "print(\"Tuple:\",tup)\n",
    "\n",
    "\n",
    "\n"
   ]
  },
  {
   "cell_type": "code",
   "execution_count": 19,
   "metadata": {},
   "outputs": [
    {
     "name": "stdout",
     "output_type": "stream",
     "text": [
      "['hello', ' my name is Praveen', ' I am from India']\n"
     ]
    }
   ],
   "source": [
    "#Separate string\n",
    "text = \"hello, my name is Praveen, I am from India\"\n",
    "text=text.split(\",\")\n",
    "print(text)"
   ]
  },
  {
   "cell_type": "code",
   "execution_count": 22,
   "metadata": {},
   "outputs": [
    {
     "name": "stdout",
     "output_type": "stream",
     "text": [
      "Enter File Name:new.doc\n",
      "doc\n"
     ]
    }
   ],
   "source": [
    "#Write a Python program to accept a filename from the user and print the extension of that. \n",
    "f_name=input(\"Enter File Name:\").split(\".\")\n",
    "print(f_name[-1])\n",
    "\n"
   ]
  },
  {
   "cell_type": "code",
   "execution_count": 25,
   "metadata": {},
   "outputs": [
    {
     "name": "stdout",
     "output_type": "stream",
     "text": [
      "The First color is Red The Last color is Black\n"
     ]
    }
   ],
   "source": [
    "#.Write a Python program to display the first and last colors from the following list.  \n",
    "color_list = [\"Red\",\"Green\",\"White\" ,\"Black\"]\n",
    "\n",
    "print(\"The First color is %s The Last color is %s\"%(color_list[0],color_list[-1]))\n"
   ]
  },
  {
   "cell_type": "code",
   "execution_count": 33,
   "metadata": {},
   "outputs": [
    {
     "name": "stdout",
     "output_type": "stream",
     "text": [
      "Enter a Number:5\n",
      "615\n",
      "615\n"
     ]
    }
   ],
   "source": [
    "#Write a Python program that accepts an integer (n) and computes the value of n+nn+nnn.\n",
    "n=int(input(\"Enter a integer :\"))\n",
    "sm=\"\"\n",
    "summ=0\n",
    "for i in range(1,4):\n",
    "    sm=str(n)*i\n",
    "    summ+=int(sm)\n",
    "print(summ)\n",
    "n1 = int( \"%s\" % n)\n",
    "n2 = int( \"%s%s\" % (n,n) )\n",
    "n3 = int( \"%s%s%s\" % (n,n,n) )\n",
    "print (n1+n2+n3)\n",
    "\n",
    "    "
   ]
  },
  {
   "cell_type": "code",
   "execution_count": 38,
   "metadata": {},
   "outputs": [
    {
     "name": "stdout",
     "output_type": "stream",
     "text": [
      "The volume of the sphere is:  904.7786842338603\n"
     ]
    }
   ],
   "source": [
    "#Write a Python program to get the volume of a sphere with radius 6.\n",
    "import math\n",
    "pi=math.pi\n",
    "r= 6.0\n",
    "V= (((4.0/3.0)*pi)*r**3)\n",
    "print('The volume of the sphere is: ',V)\n"
   ]
  },
  {
   "cell_type": "code",
   "execution_count": 71,
   "metadata": {},
   "outputs": [
    {
     "name": "stdout",
     "output_type": "stream",
     "text": [
      "Input time in seconds: 172800\n",
      "d:h:m:s-> 2 days :0 hours:0 minutes:0 seconds\n"
     ]
    }
   ],
   "source": [
    "#Write a Python program to convert seconds to day, hour, minutes and seconds. \n",
    "time = float(input(\"Input time in seconds: \"))\n",
    "day = time // (24 * 3600)\n",
    "time = time % (24 * 3600)\n",
    "hour = time // 3600\n",
    "time %= 3600\n",
    "minutes = time // 60\n",
    "time %= 60\n",
    "seconds = time\n",
    "print(\"d:h:m:s-> %d days :%d hours:%d minutes:%d seconds\" % (day, hour, minutes, seconds))"
   ]
  },
  {
   "cell_type": "code",
   "execution_count": 12,
   "metadata": {},
   "outputs": [
    {
     "name": "stdout",
     "output_type": "stream",
     "text": [
      "3\n"
     ]
    }
   ],
   "source": [
    "#Write a Python program to count the number 4 in a given list. \n",
    "def ls_count_4(num):\n",
    "    cnt=0\n",
    "    for i in num:\n",
    "        if i==4:\n",
    "            cnt+=1\n",
    "    return cnt\n",
    "print(ls_count_4([1,2,4,6,4,7,84,3,4]))\n",
    "            "
   ]
  },
  {
   "cell_type": "code",
   "execution_count": 10,
   "metadata": {},
   "outputs": [
    {
     "name": "stdout",
     "output_type": "stream",
     "text": [
      "Enter Char:i\n",
      "True\n",
      "False\n",
      "True\n",
      "False\n",
      "True\n"
     ]
    }
   ],
   "source": [
    "#Write a Python program to test whether a passed letter is a vowel or not\n",
    "char=str(input(\"Enter Char:\"))\n",
    "vowelss='aeiou'\n",
    "def vowels(c):\n",
    "    vowel=\"aeiou\"\n",
    "    return c in vowel\n",
    "print(vowels('a'))\n",
    "print(vowels('j'))\n",
    "print('a' in 'aeiou')\n",
    "print('l' in 'aeiou')\n",
    "print(char in vowelss)"
   ]
  },
  {
   "cell_type": "code",
   "execution_count": 18,
   "metadata": {},
   "outputs": [
    {
     "name": "stdout",
     "output_type": "stream",
     "text": [
      "False\n",
      "True\n"
     ]
    }
   ],
   "source": [
    "#Write a Python program to check whether a specified value is contained in a group of values.  \n",
    "def check_num_inlist(liss,number):\n",
    "    for k in liss:\n",
    "        if number==k:\n",
    "            return True\n",
    "    else:\n",
    "        return False\n",
    "lss=[1,2,3,4,5,6,7,8,9,4,3,33,22]\n",
    "print(check_num_inlist(lss,0))\n",
    "print(check_num_inlist(lss,9))"
   ]
  },
  {
   "cell_type": "code",
   "execution_count": 25,
   "metadata": {},
   "outputs": [
    {
     "name": "stdout",
     "output_type": "stream",
     "text": [
      "@@@@@\n",
      "@@\n",
      "@@@\n",
      "@@@@\n",
      "@@@@@\n",
      "@@@@@@\n"
     ]
    }
   ],
   "source": [
    "#Write a Python program to create a histogram from a given list of integers.\n",
    "def histogram(liss):\n",
    "    for i in liss:\n",
    "        for k in range(i):\n",
    "            print(\"@\",end='')\n",
    "        print('')\n",
    "\n",
    "histogram([5,2,3,4,5,6])"
   ]
  },
  {
   "cell_type": "code",
   "execution_count": 27,
   "metadata": {},
   "outputs": [
    {
     "name": "stdout",
     "output_type": "stream",
     "text": [
      "234HelloHowareYou123\n"
     ]
    }
   ],
   "source": [
    "#Write a Python program to concatenate all elements in a list into a string and return it. \n",
    "def list_string(liss):\n",
    "    string=\"\"\n",
    "    for i in liss:\n",
    "        string+=str(i)\n",
    "    return string\n",
    "print(list_string([2,3,4,\"Hello\",\"How\",\"are\",\"You\",1,2,3]))\n",
    "        "
   ]
  },
  {
   "cell_type": "code",
   "execution_count": 29,
   "metadata": {},
   "outputs": [
    {
     "name": "stdout",
     "output_type": "stream",
     "text": [
      "Enter the base : 9\n",
      "Enter the height : 5\n",
      "area =  22.5\n"
     ]
    }
   ],
   "source": [
    "#Write a Python program that will accept the base and height of a triangle and compute the area. \n",
    "base = int(input(\"Enter the base : \"))\n",
    "height = int(input(\"Enter the height : \"))\n",
    "area = (base*height)/2\n",
    "print(\"area = \", area)\n"
   ]
  },
  {
   "cell_type": "code",
   "execution_count": 32,
   "metadata": {},
   "outputs": [
    {
     "name": "stdout",
     "output_type": "stream",
     "text": [
      "0\n",
      "6\n",
      "15\n",
      "0\n",
      "18\n",
      "0\n"
     ]
    }
   ],
   "source": [
    "#Write a Python program to sum of three given integers. However, if two values are equal sum will be zero\n",
    "def total(a,b,c):\n",
    "    if a==b or b==c or c==a:\n",
    "        return 0\n",
    "    else:\n",
    "        return a+b+c\n",
    "print(total(1,2,2))\n",
    "print(total(2,1,3))\n",
    "print(total(4,5,6))\n",
    "print(total(4,5,4))\n",
    "print(total(4,5,9))\n",
    "print(total(6,5,5))\n"
   ]
  },
  {
   "cell_type": "code",
   "execution_count": 39,
   "metadata": {},
   "outputs": [
    {
     "name": "stdout",
     "output_type": "stream",
     "text": [
      "6\n",
      "20\n",
      "10\n",
      "20\n",
      "38\n"
     ]
    }
   ],
   "source": [
    "#Write a Python program to sum of two given integers. However, if the sum is between 15 to 20 it will return 20.  \n",
    "def _sum(a,b):\n",
    "    sum=a+b\n",
    "    if sum>=15 and sum<=20:\n",
    "        return 20\n",
    "    else:\n",
    "        return sum\n",
    "print(_sum(2,4))\n",
    "print(_sum(12,5))\n",
    "print(_sum(5,5))\n",
    "print(_sum(12,8))\n",
    "print(_sum(33,5))\n"
   ]
  },
  {
   "cell_type": "code",
   "execution_count": 42,
   "metadata": {},
   "outputs": [
    {
     "name": "stdout",
     "output_type": "stream",
     "text": [
      "True\n",
      "False\n",
      "True\n",
      "False\n",
      "True\n"
     ]
    }
   ],
   "source": [
    "#Write a Python program that will return true if the two given integer values are equal or their sum or difference is 5.  \n",
    "def test_check(a,b):\n",
    "    if a==b or abs(a-b)==5 or a+b==5:\n",
    "        return True\n",
    "    else:\n",
    "        return False\n",
    "print(test_check(7,2))\n",
    "print(test_check(4,2))\n",
    "print(test_check(5,5))\n",
    "print(test_check(10,8))\n",
    "print(test_check(3,2))\n",
    "\n",
    "    "
   ]
  },
  {
   "cell_type": "code",
   "execution_count": 43,
   "metadata": {},
   "outputs": [
    {
     "name": "stdout",
     "output_type": "stream",
     "text": [
      "6.324555320336759\n"
     ]
    }
   ],
   "source": [
    "#Write a Python program to compute the distance between the points (x1, y1) and (x2, y2).\n",
    "import math\n",
    "p1=[4,0]\n",
    "p2=[6,6]\n",
    "d=math.sqrt(((p1[0]-p2[0])**2)+((p1[1]-p2[1])**2))\n",
    "print(d)"
   ]
  },
  {
   "cell_type": "code",
   "execution_count": 1,
   "metadata": {},
   "outputs": [
    {
     "name": "stdout",
     "output_type": "stream",
     "text": [
      "@@@@@\n",
      "@@\n",
      "@@@\n",
      "@@@@\n",
      "@@@@@\n",
      "@@@@@@\n"
     ]
    }
   ],
   "source": [
    "#Write a Python program to create a histogram from a given list of integers.\n",
    "def histogram(liss):\n",
    "    for i in liss:\n",
    "        print(\"@\"*i)\n",
    "\n",
    "histogram([5,2,3,4,5,6])"
   ]
  },
  {
   "cell_type": "code",
   "execution_count": null,
   "metadata": {},
   "outputs": [],
   "source": []
  },
  {
   "cell_type": "code",
   "execution_count": null,
   "metadata": {},
   "outputs": [],
   "source": []
  },
  {
   "cell_type": "code",
   "execution_count": null,
   "metadata": {},
   "outputs": [],
   "source": []
  }
 ],
 "metadata": {
  "kernelspec": {
   "display_name": "Python 3",
   "language": "python",
   "name": "python3"
  },
  "language_info": {
   "codemirror_mode": {
    "name": "ipython",
    "version": 3
   },
   "file_extension": ".py",
   "mimetype": "text/x-python",
   "name": "python",
   "nbconvert_exporter": "python",
   "pygments_lexer": "ipython3",
   "version": "3.8.5"
  }
 },
 "nbformat": 4,
 "nbformat_minor": 4
}
