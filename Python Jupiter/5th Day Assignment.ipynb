{
 "cells": [
  {
   "cell_type": "code",
   "execution_count": 2,
   "metadata": {},
   "outputs": [
    {
     "name": "stdout",
     "output_type": "stream",
     "text": [
      "4\n"
     ]
    }
   ],
   "source": [
    "nums = set([1,1,2,3,3,3,4,4])\n",
    "print(len(nums)) #Because of Dublicates value in set the value will become 4"
   ]
  },
  {
   "cell_type": "code",
   "execution_count": 3,
   "metadata": {},
   "outputs": [
    {
     "name": "stdout",
     "output_type": "stream",
     "text": [
      "['john', 'peter']\n"
     ]
    }
   ],
   "source": [
    "d = {\"john\":40, \"peter\":45}\n",
    "print(list(d.keys())) #dictionary keys are extracted and converted to list"
   ]
  },
  {
   "cell_type": "code",
   "execution_count": 5,
   "metadata": {},
   "outputs": [
    {
     "name": "stdout",
     "output_type": "stream",
     "text": [
      "•\tAt least 1 letter between [a-z]\n",
      "•\tAt least 1 number between [0-9]\n",
      "•\tAt least 1 letter between [A-Z]\n",
      "•\tAt least 1 character from [$#@]\n",
      "•\tMinimum length of transaction password: 6\n",
      "•\tMaximum length of transaction password: 12\n",
      "Enter PASSWORD:Jjakk7^5\n",
      "Password Check Passed\n",
      "Jjakk7^5 is Valid\n",
      "If You want to Save passord with Your Name: Type Y/N:\n",
      "Y\n",
      "Enter Your Name:MyAnothor Pswd\n",
      "Password is saved successfully\n",
      "••••••••••••••••••\n"
     ]
    }
   ],
   "source": [
    "\"\"\"3. A website requires a user to input username and password to register. Write a program to check the validity of password given by user. Following are the criteria for checking password:\n",
    "\n",
    "•\tAt least 1 letter between [a-z]\n",
    "•\tAt least 1 number between [0-9]\n",
    "•\tAt least 1 letter between [A-Z]\n",
    "•\tAt least 1 character from [$#@]\n",
    "•\tMinimum length of transaction password: 6\n",
    "•\tMaximum length of transaction password: 12\n",
    "\n",
    "\n",
    "Hint: In case of input data being supplied to the question, it should be assumed to be a console input.\n",
    "\"\"\"\n",
    "def password_check(_password):\n",
    "    length=len(_password)\n",
    "    Capalpha=''\n",
    "    num=''\n",
    "    Lowalpha=''\n",
    "    symbol=''\n",
    "    pswd=''\n",
    "    count=dict()\n",
    "    cnt=0\n",
    "    password=\"\"\n",
    "    bol=True\n",
    "    #This Function Returns the Password Combnation Not Achievd\n",
    "    def re_callback(strr):\n",
    "        if strr.islower():\n",
    "            print(\"• At least need 1 Lower Charecter [a-z]\")\n",
    "        elif strr.isupper():\n",
    "            print(\"• At least need 1 Upper Charecter [A-Z]\")\n",
    "        elif strr.isnumeric():\n",
    "            print(\"• At least need 1 number  [0-9]\")\n",
    "        else:\n",
    "            print(\"• At least need 1 Symbol [$#@]\")\n",
    "  #Dividing Passwords        \n",
    "    for i in _password:\n",
    "        if i.isalnum():\n",
    "            if i.isupper():\n",
    "                Capalpha+=i\n",
    "                count[cnt]=i\n",
    "                cnt+=1\n",
    "            if i.islower():\n",
    "                Lowalpha+=i\n",
    "                count[cnt]=i\n",
    "                cnt+=1\n",
    "            if i.isnumeric():\n",
    "                num+=i\n",
    "                count[cnt]=i\n",
    "                cnt+=1 \n",
    "        else:\n",
    "            symbol+=i\n",
    "            count[cnt]=i\n",
    "            cnt+=1\n",
    "    #Checking Length of strings\n",
    "    if len(Lowalpha)>=1:\n",
    "        pswd+=Lowalpha\n",
    "    if len(Lowalpha)<1:\n",
    "        re_callback(\"abc\")\n",
    "        bol=False\n",
    "    if len(num)>=1:\n",
    "        pswd+=num\n",
    "    if len(num)<1:\n",
    "        re_callback(\"123\")\n",
    "        bol=False\n",
    "    if len(Capalpha)>=1:\n",
    "        pswd+=Capalpha\n",
    "    if len(Capalpha)<1:\n",
    "        re_callback(\"ABC\")\n",
    "        bol=False\n",
    "    if len(symbol)>=1:\n",
    "        pswd+=symbol\n",
    "    if len(symbol)<1:\n",
    "        re_callback(\"###\")\n",
    "        bol=False\n",
    "    if bol==False:\n",
    "        #Checking Total Length of string\n",
    "        if length<6:\n",
    "            print(\"• Error:Your password length is\",length,\"Minimun Passoword Length is 6\")\n",
    "        elif length>12:\n",
    "            print(\"• Error:Your password length is\",length,\"Maximum Password Length is 12\")\n",
    "        return \"• Password is Not Valid to Sign up\"\n",
    "    else:\n",
    "        #Reverting password from dictionary\n",
    "        if len(pswd)>=6 and len(pswd)<=12:\n",
    "            for i in count.values():\n",
    "                password+=str(i)\n",
    "            return password\n",
    "\n",
    "i=5\n",
    "lss=''\n",
    "f = open ('password.csv','a')\n",
    "k = open ('password.csv','r')\n",
    "for j in k:\n",
    "    lss+=j\n",
    "print('''•\tAt least 1 letter between [a-z]\n",
    "•\tAt least 1 number between [0-9]\n",
    "•\tAt least 1 letter between [A-Z]\n",
    "•\tAt least 1 character from [$#@]\n",
    "•\tMinimum length of transaction password: 6\n",
    "•\tMaximum length of transaction password: 12''')\n",
    "while True:\n",
    "    passoword=input(\"Enter PASSWORD:\")\n",
    "    pswd=password_check(passoword)\n",
    "    i-=1\n",
    "    if passoword==pswd:\n",
    "        print(\"Password Check Passed\")\n",
    "        print(pswd,\"is Valid\")\n",
    "        print(\"If You want to Save passord with Your Name: Type Y/N:\")\n",
    "        en_inp=input().lower()\n",
    "        if en_inp==\"y\":\n",
    "                if not(lss.startswith(\"N\")):\n",
    "                    f.write(\"Name\"+','+\"Password \\n\".capitalize())\n",
    "                    name=input(\"Enter Your Name:\")\n",
    "                    f.write(name+','+pswd+'\\n')\n",
    "                    f.close()\n",
    "                else:\n",
    "                    name=input(\"Enter Your Name:\")\n",
    "                    f.write(name+','+pswd+'\\n')\n",
    "                    f.close()\n",
    "                    print(\"Password is saved successfully\")\n",
    "                    print(\"••••••••••••••••••\")\n",
    "                    break\n",
    "        else:\n",
    "            print(\"OK Password will be Not Saved:\")\n",
    "            print(\"••••••••••••••••••\")\n",
    "        break\n",
    "    else:\n",
    "        if i>0:\n",
    "            print(\"Please Enter Correct Password: You have %d attempts left\"%(i)) \n",
    "        else:\n",
    "            print(\"You have 0 attempts left Try again later\")\n",
    "            break\n",
    "    \n",
    "\n",
    "    "
   ]
  },
  {
   "cell_type": "code",
   "execution_count": 12,
   "metadata": {},
   "outputs": [
    {
     "name": "stdout",
     "output_type": "stream",
     "text": [
      "4 is at position 1\n",
      "7 is at position 2\n",
      "3 is at position 3\n",
      "2 is at position 4\n",
      "5 is at position 5\n",
      "9 is at position 6\n"
     ]
    }
   ],
   "source": [
    "#4. Write a for loop that prints all elements of a list and their position in the list.\n",
    "a = [4,7,3,2,5,9]\n",
    "for i in range(0,len(a)):\n",
    "    print(a[i],\"is at position\",i+1)"
   ]
  },
  {
   "cell_type": "code",
   "execution_count": 13,
   "metadata": {},
   "outputs": [
    {
     "name": "stdout",
     "output_type": "stream",
     "text": [
      "Helloworld\n"
     ]
    }
   ],
   "source": [
    "#5.\tPlease write a program which accepts a string from console and print the characters that have even indexes.\n",
    "a=\"H1e2l3l4o5w6o7r8l9d\"\n",
    "string=\"\"\n",
    "for i in a:\n",
    "    if i.isalpha():\n",
    "        string+=i\n",
    "print(string)\n",
    "        "
   ]
  },
  {
   "cell_type": "code",
   "execution_count": 23,
   "metadata": {},
   "outputs": [
    {
     "name": "stdout",
     "output_type": "stream",
     "text": [
      "Helloworld\n"
     ]
    }
   ],
   "source": [
    "#5.\tPlease write a program which accepts a string from console and print the characters that have even indexes.\n",
    "alpha=\"abcdefghijklmnopqrstuvwxyz\"\n",
    "a=\"H1e2l3l4o5w6o7r8l9d\"\n",
    "string=\"\"\n",
    "for i in a:\n",
    "    if i in alpha.upper():\n",
    "        string+=i\n",
    "    if i in alpha.lower():\n",
    "        string+=i\n",
    "print(string)"
   ]
  },
  {
   "cell_type": "code",
   "execution_count": 25,
   "metadata": {},
   "outputs": [
    {
     "name": "stdout",
     "output_type": "stream",
     "text": [
      "Enter String Input:rise to vote sir\n",
      "ris etov ot esir\n"
     ]
    }
   ],
   "source": [
    "#6.\tPlease write a program which accepts a string from console and print it in reverse order.\n",
    "string=input(\"Enter String Input:\")\n",
    "print(string[::-1])"
   ]
  },
  {
   "cell_type": "code",
   "execution_count": 47,
   "metadata": {},
   "outputs": [
    {
     "name": "stdout",
     "output_type": "stream",
     "text": [
      "Enter String Input:rise to vote sir\n",
      "ris etov ot esir"
     ]
    }
   ],
   "source": [
    "#6.\tPlease write a program which accepts a string from console and print it in reverse order.\n",
    "string=input(\"Enter String Input:\")\n",
    "ls=[]\n",
    "for i in range(-1,-len(string)-1,-1):\n",
    "    ls.append(string[i])\n",
    "for j in ls:\n",
    "    print(j,end='')\n",
    "    "
   ]
  },
  {
   "cell_type": "code",
   "execution_count": 5,
   "metadata": {},
   "outputs": [
    {
     "name": "stdout",
     "output_type": "stream",
     "text": [
      "Enter String:abcdefgabc\n",
      "a 2\n",
      "b 2\n",
      "c 2\n",
      "d 1\n",
      "e 1\n",
      "f 1\n",
      "g 1\n"
     ]
    }
   ],
   "source": [
    "#7.Please write a program which count and print the numbers of each character in a string input by console.\n",
    "string=input(\"Enter String:\")\n",
    "dicc=dict()\n",
    "count=0\n",
    "for i in string:\n",
    "    dicc[i]=dicc.get(i,0)+1\n",
    "for i in dicc:\n",
    "    print(i,dicc[i])"
   ]
  },
  {
   "cell_type": "code",
   "execution_count": 14,
   "metadata": {},
   "outputs": [
    {
     "name": "stdout",
     "output_type": "stream",
     "text": [
      "[12, 35, 24, 88, 120, 155]\n",
      "[12, 35, 88, 120, 155]\n"
     ]
    }
   ],
   "source": [
    "#9.\tWrite a program to print the list after removing the value 24 in [12,24,35,24,88,120,155].\n",
    "liss=[12,24,35,24,88,120,155]\n",
    "a=liss.index(24)\n",
    "del(liss[a])\n",
    "print(liss)\n",
    "b=liss.index(24)\n",
    "del(liss[b])\n",
    "print(liss)"
   ]
  },
  {
   "cell_type": "code",
   "execution_count": 42,
   "metadata": {},
   "outputs": [
    {
     "name": "stdout",
     "output_type": "stream",
     "text": [
      "[12, 35, 88, 120, 155]\n"
     ]
    }
   ],
   "source": [
    "#9.\tWrite a program to print the list after removing the value 24 in [12,24,35,24,88,120,155].\n",
    "liss=[12,24,35,24,88,120,155]\n",
    "length=len(liss)\n",
    "a=0\n",
    "for i in liss:\n",
    "    if i==24:\n",
    "        a=liss.index(i)\n",
    "        liss.pop(a)\n",
    "print(liss)"
   ]
  },
  {
   "cell_type": "code",
   "execution_count": 43,
   "metadata": {},
   "outputs": [
    {
     "name": "stdout",
     "output_type": "stream",
     "text": [
      "[24, 35, 70, 155]\n"
     ]
    }
   ],
   "source": [
    "#10.\tWrite a program to print the list after removing the 0th,4th,5th numbers in [12,24,35,70,88,120,155].\n",
    "liss=[12,24,35,70,88,120,155]\n",
    "length=list([x for x in range(0,len(liss))])\n",
    "liss2=[]\n",
    "for i in length:\n",
    "    if not(i==0 or i==4 or i==5):\n",
    "        liss2.append(liss[i])\n",
    "print(liss2)\n",
    "        "
   ]
  },
  {
   "cell_type": "code",
   "execution_count": 1,
   "metadata": {},
   "outputs": [
    {
     "name": "stdout",
     "output_type": "stream",
     "text": [
      "[24, 35, 70, 155]\n"
     ]
    }
   ],
   "source": [
    "#10.Write a program to print the list after removing the 0th,4th,5th numbers in [12,24,35,70,88,120,155].\n",
    "liss=[12,24,35,70,88,120,155]\n",
    "length=len(liss)\n",
    "a=0\n",
    "while length>=0:\n",
    "    if length==0 or length==5 or length==4:\n",
    "        del[liss[length]]\n",
    "    length-=1\n",
    "print(liss)\n"
   ]
  },
  {
   "cell_type": "code",
   "execution_count": null,
   "metadata": {},
   "outputs": [],
   "source": []
  },
  {
   "cell_type": "code",
   "execution_count": 2,
   "metadata": {},
   "outputs": [
    {
     "name": "stdout",
     "output_type": "stream",
     "text": [
      "[12, 24, 70, 88, 155]\n"
     ]
    }
   ],
   "source": [
    "#11.Write a program to print the list after removing delete numbers which are divisible by 5 and 7 in [12,24,35,70,88,120,155].\n",
    "liss=[12,24,35,70,88,120,155]\n",
    "a=0\n",
    "for i in liss:\n",
    "    if i%5==0 or i%7==0:\n",
    "        a=liss.index(i)\n",
    "        liss.pop(a)\n",
    "print(liss)"
   ]
  },
  {
   "cell_type": "code",
   "execution_count": 10,
   "metadata": {},
   "outputs": [
    {
     "name": "stdout",
     "output_type": "stream",
     "text": [
      "Enter Integer Input:5\n",
      "3.5500000000000003\n"
     ]
    }
   ],
   "source": [
    "#12.\tWrite a program to compute 1/2+2/3+3/4+...+n/n+1 with a given n input by console (n>0).\n",
    "inp=int(input(\"Enter Integer Input:\"))\n",
    "summ=0\n",
    "for i in range(1,inp+1):\n",
    "    summ+=float(float(i)/float(i+1))\n",
    "print(summ)"
   ]
  },
  {
   "cell_type": "code",
   "execution_count": null,
   "metadata": {},
   "outputs": [],
   "source": []
  }
 ],
 "metadata": {
  "kernelspec": {
   "display_name": "Python 3",
   "language": "python",
   "name": "python3"
  },
  "language_info": {
   "codemirror_mode": {
    "name": "ipython",
    "version": 3
   },
   "file_extension": ".py",
   "mimetype": "text/x-python",
   "name": "python",
   "nbconvert_exporter": "python",
   "pygments_lexer": "ipython3",
   "version": "3.8.5"
  }
 },
 "nbformat": 4,
 "nbformat_minor": 4
}
